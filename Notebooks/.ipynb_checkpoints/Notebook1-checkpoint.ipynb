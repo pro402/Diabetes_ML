{
 "cells": [
  {
   "cell_type": "markdown",
   "id": "e78c3885-18a5-4ba1-9d6e-ccf8bf5f5a08",
   "metadata": {},
   "source": [
    "# Importing modules & libraries"
   ]
  },
  {
   "cell_type": "code",
   "execution_count": 1,
   "id": "0ec9d189-c59a-4734-95d4-481fe05a96fc",
   "metadata": {},
   "outputs": [],
   "source": [
    "import pandas as pd\n",
    "import numpy as np\n",
    "import matplotlib.pyplot as plt\n",
    "import seaborn as sns\n",
    "%matplotlib inline"
   ]
  },
  {
   "cell_type": "markdown",
   "id": "5d662708-2406-4b70-860f-3878b768e21f",
   "metadata": {},
   "source": [
    "# About Dataset\n",
    "```This dataset is originally from the National Institute of Diabetes and Digestive and Kidney```\n",
    "```Diseases. The objective of the dataset is to diagnostically predict whether a patient has diabetes,```\n",
    "```based on certain diagnostic measurements included in the dataset. Several constraints were placed```\n",
    "```on the selection of these instances from a larger database. In particular, all patients here are females```\n",
    "```at least 21 years old of Pima Indian heritage.2```\n",
    "```From the data set in the (.csv) File We can find several variables, some of them are independent```\n",
    "```(several medical predictor variables) and only one target dependent variable (Outcome).```"
   ]
  },
  {
   "cell_type": "markdown",
   "id": "57281574-c1e6-4fa6-917f-8d8b46752f15",
   "metadata": {},
   "source": [
    "## Information about dataset attributes -\n",
    "\n",
    "* ```Pregnancies```: To express the Number of pregnancies\n",
    "* ```Glucose```: To express the Glucose level in blood\n",
    "* ```BloodPressure```: To express the Blood pressure measurement\n",
    "* ```SkinThickness```: To express the thickness of the skin\n",
    "* ```Insulin```: To express the Insulin level in blood\n",
    "* ```BMI```: To express the Body mass index\n",
    "* ```DiabetesPedigreeFunction```: To express the Diabetes percentage\n",
    "* ```Age```: To express the age\n",
    "* ```Outcome```: To express the final result 1 is Yes and 0 is No"
   ]
  },
  {
   "cell_type": "markdown",
   "id": "c9f10041-41f4-4259-8fdb-c41beba14c36",
   "metadata": {},
   "source": [
    "### Importing the training and testing data set"
   ]
  },
  {
   "cell_type": "code",
   "execution_count": 2,
   "id": "97a7937d-0d1c-4142-b5b3-db9842cce166",
   "metadata": {},
   "outputs": [],
   "source": [
    "train = pd.read_csv(\"../DataSets/Training.csv\")\n",
    "test = pd.read_csv(\"../DataSets/Testing.csv\")"
   ]
  },
  {
   "cell_type": "code",
   "execution_count": 3,
   "id": "2859baf2-2c09-4b34-b018-44387493db45",
   "metadata": {},
   "outputs": [
    {
     "data": {
      "text/html": [
       "<div>\n",
       "<style scoped>\n",
       "    .dataframe tbody tr th:only-of-type {\n",
       "        vertical-align: middle;\n",
       "    }\n",
       "\n",
       "    .dataframe tbody tr th {\n",
       "        vertical-align: top;\n",
       "    }\n",
       "\n",
       "    .dataframe thead th {\n",
       "        text-align: right;\n",
       "    }\n",
       "</style>\n",
       "<table border=\"1\" class=\"dataframe\">\n",
       "  <thead>\n",
       "    <tr style=\"text-align: right;\">\n",
       "      <th></th>\n",
       "      <th>Pregnancies</th>\n",
       "      <th>Glucose</th>\n",
       "      <th>BloodPressure</th>\n",
       "      <th>SkinThickness</th>\n",
       "      <th>Insulin</th>\n",
       "      <th>BMI</th>\n",
       "      <th>DiabetesPedigreeFunction</th>\n",
       "      <th>Age</th>\n",
       "      <th>Outcome</th>\n",
       "    </tr>\n",
       "  </thead>\n",
       "  <tbody>\n",
       "    <tr>\n",
       "      <th>0</th>\n",
       "      <td>6</td>\n",
       "      <td>148</td>\n",
       "      <td>72</td>\n",
       "      <td>35</td>\n",
       "      <td>0</td>\n",
       "      <td>33.6</td>\n",
       "      <td>0.627</td>\n",
       "      <td>50</td>\n",
       "      <td>1</td>\n",
       "    </tr>\n",
       "    <tr>\n",
       "      <th>1</th>\n",
       "      <td>1</td>\n",
       "      <td>85</td>\n",
       "      <td>66</td>\n",
       "      <td>29</td>\n",
       "      <td>0</td>\n",
       "      <td>26.6</td>\n",
       "      <td>0.351</td>\n",
       "      <td>31</td>\n",
       "      <td>0</td>\n",
       "    </tr>\n",
       "  </tbody>\n",
       "</table>\n",
       "</div>"
      ],
      "text/plain": [
       "   Pregnancies  Glucose  BloodPressure  SkinThickness  Insulin   BMI  \\\n",
       "0            6      148             72             35        0  33.6   \n",
       "1            1       85             66             29        0  26.6   \n",
       "\n",
       "   DiabetesPedigreeFunction  Age  Outcome  \n",
       "0                     0.627   50        1  \n",
       "1                     0.351   31        0  "
      ]
     },
     "execution_count": 3,
     "metadata": {},
     "output_type": "execute_result"
    }
   ],
   "source": [
    "train.head(2)"
   ]
  },
  {
   "cell_type": "code",
   "execution_count": 4,
   "id": "637416c7-8434-49f6-b1a5-956f1d601726",
   "metadata": {},
   "outputs": [
    {
     "data": {
      "text/html": [
       "<div>\n",
       "<style scoped>\n",
       "    .dataframe tbody tr th:only-of-type {\n",
       "        vertical-align: middle;\n",
       "    }\n",
       "\n",
       "    .dataframe tbody tr th {\n",
       "        vertical-align: top;\n",
       "    }\n",
       "\n",
       "    .dataframe thead th {\n",
       "        text-align: right;\n",
       "    }\n",
       "</style>\n",
       "<table border=\"1\" class=\"dataframe\">\n",
       "  <thead>\n",
       "    <tr style=\"text-align: right;\">\n",
       "      <th></th>\n",
       "      <th>Pregnancies</th>\n",
       "      <th>Glucose</th>\n",
       "      <th>BloodPressure</th>\n",
       "      <th>SkinThickness</th>\n",
       "      <th>Insulin</th>\n",
       "      <th>BMI</th>\n",
       "      <th>DiabetesPedigreeFunction</th>\n",
       "      <th>Age</th>\n",
       "      <th>Outcome</th>\n",
       "    </tr>\n",
       "  </thead>\n",
       "  <tbody>\n",
       "    <tr>\n",
       "      <th>2458</th>\n",
       "      <td>1</td>\n",
       "      <td>96</td>\n",
       "      <td>64</td>\n",
       "      <td>27</td>\n",
       "      <td>87</td>\n",
       "      <td>33.2</td>\n",
       "      <td>0.289</td>\n",
       "      <td>21</td>\n",
       "      <td>0</td>\n",
       "    </tr>\n",
       "    <tr>\n",
       "      <th>2459</th>\n",
       "      <td>6</td>\n",
       "      <td>105</td>\n",
       "      <td>70</td>\n",
       "      <td>32</td>\n",
       "      <td>68</td>\n",
       "      <td>30.8</td>\n",
       "      <td>0.122</td>\n",
       "      <td>37</td>\n",
       "      <td>0</td>\n",
       "    </tr>\n",
       "  </tbody>\n",
       "</table>\n",
       "</div>"
      ],
      "text/plain": [
       "      Pregnancies  Glucose  BloodPressure  SkinThickness  Insulin   BMI  \\\n",
       "2458            1       96             64             27       87  33.2   \n",
       "2459            6      105             70             32       68  30.8   \n",
       "\n",
       "      DiabetesPedigreeFunction  Age  Outcome  \n",
       "2458                     0.289   21        0  \n",
       "2459                     0.122   37        0  "
      ]
     },
     "execution_count": 4,
     "metadata": {},
     "output_type": "execute_result"
    }
   ],
   "source": [
    "train.tail(2)"
   ]
  },
  {
   "cell_type": "code",
   "execution_count": 5,
   "id": "666d8674-80ff-48ef-93be-3034cf0c3c5c",
   "metadata": {},
   "outputs": [
    {
     "data": {
      "text/html": [
       "<div>\n",
       "<style scoped>\n",
       "    .dataframe tbody tr th:only-of-type {\n",
       "        vertical-align: middle;\n",
       "    }\n",
       "\n",
       "    .dataframe tbody tr th {\n",
       "        vertical-align: top;\n",
       "    }\n",
       "\n",
       "    .dataframe thead th {\n",
       "        text-align: right;\n",
       "    }\n",
       "</style>\n",
       "<table border=\"1\" class=\"dataframe\">\n",
       "  <thead>\n",
       "    <tr style=\"text-align: right;\">\n",
       "      <th></th>\n",
       "      <th>Pregnancies</th>\n",
       "      <th>Glucose</th>\n",
       "      <th>BloodPressure</th>\n",
       "      <th>SkinThickness</th>\n",
       "      <th>Insulin</th>\n",
       "      <th>BMI</th>\n",
       "      <th>DiabetesPedigreeFunction</th>\n",
       "      <th>Age</th>\n",
       "      <th>Outcome</th>\n",
       "    </tr>\n",
       "  </thead>\n",
       "  <tbody>\n",
       "    <tr>\n",
       "      <th>2363</th>\n",
       "      <td>5</td>\n",
       "      <td>88</td>\n",
       "      <td>66</td>\n",
       "      <td>21</td>\n",
       "      <td>23</td>\n",
       "      <td>24.4</td>\n",
       "      <td>0.342</td>\n",
       "      <td>30</td>\n",
       "      <td>0</td>\n",
       "    </tr>\n",
       "    <tr>\n",
       "      <th>1230</th>\n",
       "      <td>4</td>\n",
       "      <td>184</td>\n",
       "      <td>78</td>\n",
       "      <td>39</td>\n",
       "      <td>277</td>\n",
       "      <td>37.0</td>\n",
       "      <td>0.264</td>\n",
       "      <td>31</td>\n",
       "      <td>1</td>\n",
       "    </tr>\n",
       "  </tbody>\n",
       "</table>\n",
       "</div>"
      ],
      "text/plain": [
       "      Pregnancies  Glucose  BloodPressure  SkinThickness  Insulin   BMI  \\\n",
       "2363            5       88             66             21       23  24.4   \n",
       "1230            4      184             78             39      277  37.0   \n",
       "\n",
       "      DiabetesPedigreeFunction  Age  Outcome  \n",
       "2363                     0.342   30        0  \n",
       "1230                     0.264   31        1  "
      ]
     },
     "execution_count": 5,
     "metadata": {},
     "output_type": "execute_result"
    }
   ],
   "source": [
    "train.sample(2)"
   ]
  },
  {
   "cell_type": "code",
   "execution_count": 6,
   "id": "422fbc26-dc2e-4883-b9b4-3a833867d6c9",
   "metadata": {},
   "outputs": [
    {
     "data": {
      "image/png": "[encoded data removed]",
      "text/plain": [
       "<Figure size 400x300 with 1 Axes>"
      ]
     },
     "metadata": {},
     "output_type": "display_data"
    }
   ],
   "source": [
    "zero_counts = (train == 0).sum()\n",
    "plt.figure(figsize=(4,3))\n",
    "sns.barplot(x=zero_counts.index, y=zero_counts.values)\n",
    "plt.xticks(rotation=90)\n",
    "plt.title(\"columns with values 0\")\n",
    "plt.show()"
   ]
  },
  {
   "cell_type": "markdown",
   "id": "d1c3f1fc-d40d-42b4-9587-c4ba069ed4a1",
   "metadata": {},
   "source": [
    "### Ignoring ```Pregnancies``` and ```Outcome``` as they can be valued 0 here"
   ]
  },
  {
   "cell_type": "code",
   "execution_count": 7,
   "id": "cf59ce07-0811-4451-b467-677e24abf5f8",
   "metadata": {},
   "outputs": [
    {
     "data": {
      "image/png": "[encoded data removed]",
      "text/plain": [
       "<Figure size 400x300 with 1 Axes>"
      ]
     },
     "metadata": {},
     "output_type": "display_data"
    }
   ],
   "source": [
    "zero_counts_mod = (train.iloc[:,1:8] == 0).sum()\n",
    "plt.figure(figsize=(4,3))\n",
    "sns.barplot(x=zero_counts_mod.index, y=zero_counts_mod.values)\n",
    "plt.xticks(rotation=90)\n",
    "plt.title(\"columns with values 0 except two extreme columns\")\n",
    "plt.show()"
   ]
  },
  {
   "cell_type": "code",
   "execution_count": 8,
   "id": "e75d63fc-1013-4992-b0ee-beaf67f9cf5a",
   "metadata": {},
   "outputs": [
    {
     "name": "stdout",
     "output_type": "stream",
     "text": [
      "Glucose => 17\n",
      "BloodPressure => 114\n",
      "SkinThickness => 717\n",
      "Insulin => 1181\n",
      "BMI => 31\n"
     ]
    }
   ],
   "source": [
    "print(f\"Glucose => {(train['Glucose']==0).sum()}\")\n",
    "print(f\"BloodPressure => {(train['BloodPressure']==0).sum()}\")\n",
    "print(f\"SkinThickness => {(train['SkinThickness']==0).sum()}\")\n",
    "print(f\"Insulin => {(train['Insulin']==0).sum()}\")\n",
    "print(f\"BMI => {(train['BMI']==0).sum()}\")"
   ]
  },
  {
   "cell_type": "code",
   "execution_count": 9,
   "id": "87f224c8-8b58-4ff1-bae4-998d63b507f4",
   "metadata": {},
   "outputs": [
    {
     "name": "stdout",
     "output_type": "stream",
     "text": [
      "Glucose => 1\n",
      "BloodPressure => 14\n",
      "SkinThickness => 93\n",
      "Insulin => 152\n",
      "BMI => 4\n"
     ]
    }
   ],
   "source": [
    "print(f\"Glucose => {(test['Glucose']==0).sum()}\")\n",
    "print(f\"BloodPressure => {(test['BloodPressure']==0).sum()}\")\n",
    "print(f\"SkinThickness => {(test['SkinThickness']==0).sum()}\")\n",
    "print(f\"Insulin => {(test['Insulin']==0).sum()}\")\n",
    "print(f\"BMI => {(test['BMI']==0).sum()}\")"
   ]
  },
  {
   "cell_type": "code",
   "execution_count": 10,
   "id": "ef790716-3bff-4db5-ac4d-be391d88ec55",
   "metadata": {},
   "outputs": [],
   "source": [
    "columns = ['Glucose', 'BloodPressure', 'SkinThickness', 'Insulin', 'BMI']\n",
    "\n",
    "for column in columns:\n",
    "    train = train[train[column] != 0]"
   ]
  },
  {
   "cell_type": "code",
   "execution_count": 11,
   "id": "f71ced43-fb96-4f84-b26d-23ca56b2af41",
   "metadata": {},
   "outputs": [
    {
     "name": "stdout",
     "output_type": "stream",
     "text": [
      "Glucose => 0\n",
      "BloodPressure => 0\n",
      "SkinThickness => 0\n",
      "Insulin => 0\n",
      "BMI => 0\n"
     ]
    }
   ],
   "source": [
    "print(f\"Glucose => {(train['Glucose']==0).sum()}\")\n",
    "print(f\"BloodPressure => {(train['BloodPressure']==0).sum()}\")\n",
    "print(f\"SkinThickness => {(train['SkinThickness']==0).sum()}\")\n",
    "print(f\"Insulin => {(train['Insulin']==0).sum()}\")\n",
    "print(f\"BMI => {(train['BMI']==0).sum()}\")"
   ]
  },
  {
   "cell_type": "code",
   "execution_count": 12,
   "id": "acc6201f-c1f9-4c94-a2fb-4fd461cb1655",
   "metadata": {},
   "outputs": [
    {
     "data": {
      "text/html": [
       "<div>\n",
       "<style scoped>\n",
       "    .dataframe tbody tr th:only-of-type {\n",
       "        vertical-align: middle;\n",
       "    }\n",
       "\n",
       "    .dataframe tbody tr th {\n",
       "        vertical-align: top;\n",
       "    }\n",
       "\n",
       "    .dataframe thead th {\n",
       "        text-align: right;\n",
       "    }\n",
       "</style>\n",
       "<table border=\"1\" class=\"dataframe\">\n",
       "  <thead>\n",
       "    <tr style=\"text-align: right;\">\n",
       "      <th></th>\n",
       "      <th>Pregnancies</th>\n",
       "      <th>Glucose</th>\n",
       "      <th>BloodPressure</th>\n",
       "      <th>SkinThickness</th>\n",
       "      <th>Insulin</th>\n",
       "      <th>BMI</th>\n",
       "      <th>DiabetesPedigreeFunction</th>\n",
       "      <th>Age</th>\n",
       "      <th>Outcome</th>\n",
       "    </tr>\n",
       "  </thead>\n",
       "  <tbody>\n",
       "    <tr>\n",
       "      <th>0</th>\n",
       "      <td>1</td>\n",
       "      <td>89</td>\n",
       "      <td>66</td>\n",
       "      <td>23</td>\n",
       "      <td>94</td>\n",
       "      <td>28.1</td>\n",
       "      <td>0.167</td>\n",
       "      <td>21</td>\n",
       "      <td>0</td>\n",
       "    </tr>\n",
       "    <tr>\n",
       "      <th>1</th>\n",
       "      <td>0</td>\n",
       "      <td>137</td>\n",
       "      <td>40</td>\n",
       "      <td>35</td>\n",
       "      <td>168</td>\n",
       "      <td>43.1</td>\n",
       "      <td>2.288</td>\n",
       "      <td>33</td>\n",
       "      <td>1</td>\n",
       "    </tr>\n",
       "    <tr>\n",
       "      <th>2</th>\n",
       "      <td>3</td>\n",
       "      <td>78</td>\n",
       "      <td>50</td>\n",
       "      <td>32</td>\n",
       "      <td>88</td>\n",
       "      <td>31.0</td>\n",
       "      <td>0.248</td>\n",
       "      <td>26</td>\n",
       "      <td>1</td>\n",
       "    </tr>\n",
       "    <tr>\n",
       "      <th>3</th>\n",
       "      <td>2</td>\n",
       "      <td>197</td>\n",
       "      <td>70</td>\n",
       "      <td>45</td>\n",
       "      <td>543</td>\n",
       "      <td>30.5</td>\n",
       "      <td>0.158</td>\n",
       "      <td>53</td>\n",
       "      <td>1</td>\n",
       "    </tr>\n",
       "    <tr>\n",
       "      <th>4</th>\n",
       "      <td>1</td>\n",
       "      <td>189</td>\n",
       "      <td>60</td>\n",
       "      <td>23</td>\n",
       "      <td>846</td>\n",
       "      <td>30.1</td>\n",
       "      <td>0.398</td>\n",
       "      <td>59</td>\n",
       "      <td>1</td>\n",
       "    </tr>\n",
       "    <tr>\n",
       "      <th>...</th>\n",
       "      <td>...</td>\n",
       "      <td>...</td>\n",
       "      <td>...</td>\n",
       "      <td>...</td>\n",
       "      <td>...</td>\n",
       "      <td>...</td>\n",
       "      <td>...</td>\n",
       "      <td>...</td>\n",
       "      <td>...</td>\n",
       "    </tr>\n",
       "    <tr>\n",
       "      <th>2263</th>\n",
       "      <td>0</td>\n",
       "      <td>165</td>\n",
       "      <td>76</td>\n",
       "      <td>43</td>\n",
       "      <td>255</td>\n",
       "      <td>47.9</td>\n",
       "      <td>0.259</td>\n",
       "      <td>26</td>\n",
       "      <td>0</td>\n",
       "    </tr>\n",
       "    <tr>\n",
       "      <th>2264</th>\n",
       "      <td>4</td>\n",
       "      <td>197</td>\n",
       "      <td>70</td>\n",
       "      <td>39</td>\n",
       "      <td>744</td>\n",
       "      <td>36.7</td>\n",
       "      <td>2.329</td>\n",
       "      <td>31</td>\n",
       "      <td>0</td>\n",
       "    </tr>\n",
       "    <tr>\n",
       "      <th>2265</th>\n",
       "      <td>10</td>\n",
       "      <td>148</td>\n",
       "      <td>84</td>\n",
       "      <td>48</td>\n",
       "      <td>237</td>\n",
       "      <td>37.6</td>\n",
       "      <td>1.001</td>\n",
       "      <td>51</td>\n",
       "      <td>1</td>\n",
       "    </tr>\n",
       "    <tr>\n",
       "      <th>2266</th>\n",
       "      <td>1</td>\n",
       "      <td>112</td>\n",
       "      <td>72</td>\n",
       "      <td>30</td>\n",
       "      <td>176</td>\n",
       "      <td>34.4</td>\n",
       "      <td>0.528</td>\n",
       "      <td>25</td>\n",
       "      <td>0</td>\n",
       "    </tr>\n",
       "    <tr>\n",
       "      <th>2267</th>\n",
       "      <td>2</td>\n",
       "      <td>110</td>\n",
       "      <td>74</td>\n",
       "      <td>29</td>\n",
       "      <td>125</td>\n",
       "      <td>32.4</td>\n",
       "      <td>0.698</td>\n",
       "      <td>27</td>\n",
       "      <td>0</td>\n",
       "    </tr>\n",
       "  </tbody>\n",
       "</table>\n",
       "<p>2268 rows × 9 columns</p>\n",
       "</div>"
      ],
      "text/plain": [
       "      Pregnancies  Glucose  BloodPressure  SkinThickness  Insulin   BMI  \\\n",
       "0               1       89             66             23       94  28.1   \n",
       "1               0      137             40             35      168  43.1   \n",
       "2               3       78             50             32       88  31.0   \n",
       "3               2      197             70             45      543  30.5   \n",
       "4               1      189             60             23      846  30.1   \n",
       "...           ...      ...            ...            ...      ...   ...   \n",
       "2263            0      165             76             43      255  47.9   \n",
       "2264            4      197             70             39      744  36.7   \n",
       "2265           10      148             84             48      237  37.6   \n",
       "2266            1      112             72             30      176  34.4   \n",
       "2267            2      110             74             29      125  32.4   \n",
       "\n",
       "      DiabetesPedigreeFunction  Age  Outcome  \n",
       "0                        0.167   21        0  \n",
       "1                        2.288   33        1  \n",
       "2                        0.248   26        1  \n",
       "3                        0.158   53        1  \n",
       "4                        0.398   59        1  \n",
       "...                        ...  ...      ...  \n",
       "2263                     0.259   26        0  \n",
       "2264                     2.329   31        0  \n",
       "2265                     1.001   51        1  \n",
       "2266                     0.528   25        0  \n",
       "2267                     0.698   27        0  \n",
       "\n",
       "[2268 rows x 9 columns]"
      ]
     },
     "execution_count": 12,
     "metadata": {},
     "output_type": "execute_result"
    }
   ],
   "source": [
    "t = train.sample(n=1000,replace=True,random_state=1)\n",
    "train = pd.concat([train,t],ignore_index=True)\n",
    "train.reset_index(drop=True,inplace=True)\n",
    "train"
   ]
  },
  {
   "cell_type": "markdown",
   "id": "eb9b5dea-77a0-491a-9905-86e2ef0b0518",
   "metadata": {},
   "source": [
    "### Dataset clearing done now "
   ]
  },
  {
   "cell_type": "markdown",
   "id": "8b2535e5-4676-46fc-91dd-eba605cdac74",
   "metadata": {},
   "source": [
    "## EDA"
   ]
  },
  {
   "cell_type": "code",
   "execution_count": 13,
   "id": "d3c10973-d9dd-4a8b-9814-5593bf9763d1",
   "metadata": {},
   "outputs": [
    {
     "data": {
      "text/plain": [
       "Index(['Pregnancies', 'Glucose', 'BloodPressure', 'SkinThickness', 'Insulin',\n",
       "       'BMI', 'DiabetesPedigreeFunction', 'Age', 'Outcome'],\n",
       "      dtype='object')"
      ]
     },
     "execution_count": 13,
     "metadata": {},
     "output_type": "execute_result"
    }
   ],
   "source": [
    "train.columns"
   ]
  },
  {
   "cell_type": "code",
   "execution_count": 14,
   "id": "e8aed293-0dd2-4773-8f80-5f7403b7606a",
   "metadata": {},
   "outputs": [
    {
     "name": "stdout",
     "output_type": "stream",
     "text": [
      "<class 'pandas.core.frame.DataFrame'>\n",
      "RangeIndex: 2268 entries, 0 to 2267\n",
      "Data columns (total 9 columns):\n",
      " #   Column                    Non-Null Count  Dtype  \n",
      "---  ------                    --------------  -----  \n",
      " 0   Pregnancies               2268 non-null   int64  \n",
      " 1   Glucose                   2268 non-null   int64  \n",
      " 2   BloodPressure             2268 non-null   int64  \n",
      " 3   SkinThickness             2268 non-null   int64  \n",
      " 4   Insulin                   2268 non-null   int64  \n",
      " 5   BMI                       2268 non-null   float64\n",
      " 6   DiabetesPedigreeFunction  2268 non-null   float64\n",
      " 7   Age                       2268 non-null   int64  \n",
      " 8   Outcome                   2268 non-null   int64  \n",
      "dtypes: float64(2), int64(7)\n",
      "memory usage: 159.6 KB\n"
     ]
    }
   ],
   "source": [
    "train.info()"
   ]
  },
  {
   "cell_type": "code",
   "execution_count": 15,
   "id": "9d519a1c-a64d-495e-8434-23bfbeccdc58",
   "metadata": {},
   "outputs": [
    {
     "data": {
      "text/html": [
       "<div>\n",
       "<style scoped>\n",
       "    .dataframe tbody tr th:only-of-type {\n",
       "        vertical-align: middle;\n",
       "    }\n",
       "\n",
       "    .dataframe tbody tr th {\n",
       "        vertical-align: top;\n",
       "    }\n",
       "\n",
       "    .dataframe thead th {\n",
       "        text-align: right;\n",
       "    }\n",
       "</style>\n",
       "<table border=\"1\" class=\"dataframe\">\n",
       "  <thead>\n",
       "    <tr style=\"text-align: right;\">\n",
       "      <th></th>\n",
       "      <th>count</th>\n",
       "      <th>mean</th>\n",
       "      <th>std</th>\n",
       "      <th>min</th>\n",
       "      <th>25%</th>\n",
       "      <th>50%</th>\n",
       "      <th>75%</th>\n",
       "      <th>max</th>\n",
       "    </tr>\n",
       "  </thead>\n",
       "  <tbody>\n",
       "    <tr>\n",
       "      <th>Pregnancies</th>\n",
       "      <td>2268.0</td>\n",
       "      <td>3.348765</td>\n",
       "      <td>3.243610</td>\n",
       "      <td>0.000</td>\n",
       "      <td>1.000</td>\n",
       "      <td>2.000</td>\n",
       "      <td>5.000</td>\n",
       "      <td>17.00</td>\n",
       "    </tr>\n",
       "    <tr>\n",
       "      <th>Glucose</th>\n",
       "      <td>2268.0</td>\n",
       "      <td>123.472222</td>\n",
       "      <td>30.696698</td>\n",
       "      <td>71.000</td>\n",
       "      <td>100.000</td>\n",
       "      <td>119.000</td>\n",
       "      <td>144.000</td>\n",
       "      <td>197.00</td>\n",
       "    </tr>\n",
       "    <tr>\n",
       "      <th>BloodPressure</th>\n",
       "      <td>2268.0</td>\n",
       "      <td>70.402557</td>\n",
       "      <td>11.811665</td>\n",
       "      <td>30.000</td>\n",
       "      <td>64.000</td>\n",
       "      <td>70.000</td>\n",
       "      <td>78.000</td>\n",
       "      <td>110.00</td>\n",
       "    </tr>\n",
       "    <tr>\n",
       "      <th>SkinThickness</th>\n",
       "      <td>2268.0</td>\n",
       "      <td>29.181217</td>\n",
       "      <td>10.703085</td>\n",
       "      <td>7.000</td>\n",
       "      <td>21.000</td>\n",
       "      <td>29.000</td>\n",
       "      <td>37.000</td>\n",
       "      <td>63.00</td>\n",
       "    </tr>\n",
       "    <tr>\n",
       "      <th>Insulin</th>\n",
       "      <td>2268.0</td>\n",
       "      <td>155.784832</td>\n",
       "      <td>122.907016</td>\n",
       "      <td>14.000</td>\n",
       "      <td>74.000</td>\n",
       "      <td>120.000</td>\n",
       "      <td>192.000</td>\n",
       "      <td>846.00</td>\n",
       "    </tr>\n",
       "    <tr>\n",
       "      <th>BMI</th>\n",
       "      <td>2268.0</td>\n",
       "      <td>32.900000</td>\n",
       "      <td>7.053362</td>\n",
       "      <td>19.300</td>\n",
       "      <td>27.800</td>\n",
       "      <td>33.100</td>\n",
       "      <td>36.700</td>\n",
       "      <td>67.10</td>\n",
       "    </tr>\n",
       "    <tr>\n",
       "      <th>DiabetesPedigreeFunction</th>\n",
       "      <td>2268.0</td>\n",
       "      <td>0.525190</td>\n",
       "      <td>0.383455</td>\n",
       "      <td>0.088</td>\n",
       "      <td>0.264</td>\n",
       "      <td>0.434</td>\n",
       "      <td>0.673</td>\n",
       "      <td>2.42</td>\n",
       "    </tr>\n",
       "    <tr>\n",
       "      <th>Age</th>\n",
       "      <td>2268.0</td>\n",
       "      <td>30.585538</td>\n",
       "      <td>10.099732</td>\n",
       "      <td>21.000</td>\n",
       "      <td>24.000</td>\n",
       "      <td>27.000</td>\n",
       "      <td>34.000</td>\n",
       "      <td>81.00</td>\n",
       "    </tr>\n",
       "    <tr>\n",
       "      <th>Outcome</th>\n",
       "      <td>2268.0</td>\n",
       "      <td>0.368607</td>\n",
       "      <td>0.482533</td>\n",
       "      <td>0.000</td>\n",
       "      <td>0.000</td>\n",
       "      <td>0.000</td>\n",
       "      <td>1.000</td>\n",
       "      <td>1.00</td>\n",
       "    </tr>\n",
       "  </tbody>\n",
       "</table>\n",
       "</div>"
      ],
      "text/plain": [
       "                           count        mean         std     min      25%  \\\n",
       "Pregnancies               2268.0    3.348765    3.243610   0.000    1.000   \n",
       "Glucose                   2268.0  123.472222   30.696698  71.000  100.000   \n",
       "BloodPressure             2268.0   70.402557   11.811665  30.000   64.000   \n",
       "SkinThickness             2268.0   29.181217   10.703085   7.000   21.000   \n",
       "Insulin                   2268.0  155.784832  122.907016  14.000   74.000   \n",
       "BMI                       2268.0   32.900000    7.053362  19.300   27.800   \n",
       "DiabetesPedigreeFunction  2268.0    0.525190    0.383455   0.088    0.264   \n",
       "Age                       2268.0   30.585538   10.099732  21.000   24.000   \n",
       "Outcome                   2268.0    0.368607    0.482533   0.000    0.000   \n",
       "\n",
       "                              50%      75%     max  \n",
       "Pregnancies                 2.000    5.000   17.00  \n",
       "Glucose                   119.000  144.000  197.00  \n",
       "BloodPressure              70.000   78.000  110.00  \n",
       "SkinThickness              29.000   37.000   63.00  \n",
       "Insulin                   120.000  192.000  846.00  \n",
       "BMI                        33.100   36.700   67.10  \n",
       "DiabetesPedigreeFunction    0.434    0.673    2.42  \n",
       "Age                        27.000   34.000   81.00  \n",
       "Outcome                     0.000    1.000    1.00  "
      ]
     },
     "execution_count": 15,
     "metadata": {},
     "output_type": "execute_result"
    }
   ],
   "source": [
    "train.describe().T"
   ]
  },
  {
   "cell_type": "code",
   "execution_count": 18,
   "id": "3c8a29ba-a225-4990-8969-5efb6b14a904",
   "metadata": {},
   "outputs": [
    {
     "data": {
      "text/plain": [
       "<Axes: >"
      ]
     },
     "execution_count": 18,
     "metadata": {},
     "output_type": "execute_result"
    },
    {
     "data": {
      "image/png": "[encoded data removed]",
      "text/plain": [
       "<Figure size 640x480 with 2 Axes>"
      ]
     },
     "metadata": {},
     "output_type": "display_data"
    }
   ],
   "source": [
    "sns.heatmap(train)"
   ]
  }
 ],
 "metadata": {
  "kernelspec": {
   "display_name": "Python 3 (ipykernel)",
   "language": "python",
   "name": "python3"
  },
  "language_info": {
   "codemirror_mode": {
    "name": "ipython",
    "version": 3
   },
   "file_extension": ".py",
   "mimetype": "text/x-python",
   "name": "python",
   "nbconvert_exporter": "python",
   "pygments_lexer": "ipython3",
   "version": "3.10.13"
  }
 },
 "nbformat": 4,
 "nbformat_minor": 5
}
